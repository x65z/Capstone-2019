{
 "cells": [
  {
   "cell_type": "code",
   "execution_count": 1,
   "metadata": {},
   "outputs": [],
   "source": [
    "# Pad File Names in Dir with 0s"
   ]
  },
  {
   "cell_type": "code",
   "execution_count": 2,
   "metadata": {},
   "outputs": [],
   "source": [
    "import os\n",
    "import sys\n",
    "\n",
    "dir = \"F:\\\\frames-hroom\\\\comb\\\\calibrated\""
   ]
  },
  {
   "cell_type": "code",
   "execution_count": 3,
   "metadata": {},
   "outputs": [
    {
     "name": "stdout",
     "output_type": "stream",
     "text": [
      "conv\n",
      "img_100.png\n",
      "img_101.png\n",
      "img_102.png\n",
      "img_103.png\n",
      "img_104.png\n",
      "img_105.png\n",
      "img_106.png\n",
      "img_107.png\n",
      "img_108.png\n",
      "img_109.png\n",
      "img_110.png\n",
      "img_111.png\n",
      "img_112.png\n",
      "img_46.png\n",
      "img_47.png\n",
      "img_48.png\n",
      "img_49.png\n",
      "img_50.png\n",
      "img_51.png\n",
      "img_52.png\n",
      "img_53.png\n",
      "img_54.png\n",
      "img_55.png\n",
      "img_56.png\n",
      "img_57.png\n",
      "img_58.png\n",
      "img_59.png\n",
      "img_60.png\n",
      "img_61.png\n",
      "img_62.png\n",
      "img_63.png\n",
      "img_64.png\n",
      "img_65.png\n",
      "img_66.png\n",
      "img_67.png\n",
      "img_68.png\n",
      "img_69.png\n",
      "img_83.png\n",
      "img_84.png\n",
      "img_85.png\n",
      "img_86.png\n",
      "img_87.png\n",
      "img_88.png\n",
      "img_89.png\n",
      "img_90.png\n",
      "img_91.png\n",
      "img_92.png\n",
      "img_93.png\n",
      "img_94.png\n",
      "img_95.png\n",
      "img_96.png\n",
      "img_97.png\n",
      "img_98.png\n",
      "img_99.png\n",
      "stitched\n",
      "_conv.bat\n"
     ]
    }
   ],
   "source": [
    "directory = os.fsencode(dir)\n",
    "for file in os.listdir(directory):\n",
    "    filename = os.fsdecode(file)\n",
    "    print(filename)\n",
    "    if filename.endswith(\".png\"):   \n",
    "        os.rename(dir+\"\\\\\"+filename, dir+\"\\\\\"+(filename).replace(')', '').replace('(', '').replace('img_', '').rjust(11, '0'))"
   ]
  },
  {
   "cell_type": "code",
   "execution_count": null,
   "metadata": {},
   "outputs": [],
   "source": []
  }
 ],
 "metadata": {
  "kernelspec": {
   "display_name": "Python 3",
   "language": "python",
   "name": "python3"
  },
  "language_info": {
   "codemirror_mode": {
    "name": "ipython",
    "version": 3
   },
   "file_extension": ".py",
   "mimetype": "text/x-python",
   "name": "python",
   "nbconvert_exporter": "python",
   "pygments_lexer": "ipython3",
   "version": "3.7.3"
  }
 },
 "nbformat": 4,
 "nbformat_minor": 4
}
